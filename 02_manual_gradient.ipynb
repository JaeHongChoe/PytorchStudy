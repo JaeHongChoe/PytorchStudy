{
  "nbformat": 4,
  "nbformat_minor": 0,
  "metadata": {
    "colab": {
      "name": "02_manual_gradient.ipynb",
      "provenance": [],
      "collapsed_sections": [],
      "authorship_tag": "ABX9TyPKDQGnVbQo4UYkJhYMAkT/",
      "include_colab_link": true
    },
    "kernelspec": {
      "name": "python3",
      "display_name": "Python 3"
    }
  },
  "cells": [
    {
      "cell_type": "markdown",
      "metadata": {
        "id": "view-in-github",
        "colab_type": "text"
      },
      "source": [
        "<a href=\"https://colab.research.google.com/github/JaeHongChoe/PytorchStudy/blob/main/02_manual_gradient.ipynb\" target=\"_parent\"><img src=\"https://colab.research.google.com/assets/colab-badge.svg\" alt=\"Open In Colab\"/></a>"
      ]
    },
    {
      "cell_type": "code",
      "metadata": {
        "id": "G-aKYajvn4Sr"
      },
      "source": [
        "import numpy as np\n",
        "import matplotlib.pyplot as plt\n",
        "\n",
        "##dataset\n",
        "x_data = [1.0, 2.0, 3.0]\n",
        "y_data = [2.0, 4.0, 6.0]"
      ],
      "execution_count": null,
      "outputs": []
    },
    {
      "cell_type": "markdown",
      "metadata": {
        "id": "oZvIRNY0qYyy"
      },
      "source": [
        "\n",
        "𝛼"
      ]
    },
    {
      "cell_type": "code",
      "metadata": {
        "id": "e1hkstrNrb6i"
      },
      "source": [
        "w1 = 1.0 ## random guess\n",
        "w2 = 2.0\n",
        "\n",
        "def forward(x): ##y^ = x^2*w1 +x*w2\n",
        "  return (x**2)*w2 + (x*w1)"
      ],
      "execution_count": null,
      "outputs": []
    },
    {
      "cell_type": "code",
      "metadata": {
        "id": "9pLb54p2wm1T"
      },
      "source": [
        "# Loss function\n",
        "def loss(x, y):\n",
        "    y_pred = forward(x)\n",
        "    return (y_pred - y) * (y_pred - y)"
      ],
      "execution_count": null,
      "outputs": []
    },
    {
      "cell_type": "code",
      "metadata": {
        "id": "jNfJMDzqwo4g"
      },
      "source": [
        "# compute gradient\n",
        "def gradient(x, y):  # d_loss/d_w\n",
        "    return 2 * x * (x * w - y)"
      ],
      "execution_count": null,
      "outputs": []
    },
    {
      "cell_type": "code",
      "metadata": {
        "id": "kZIgTSgM6hhR"
      },
      "source": [
        "def gradient_w1(x,y):\n",
        "  return 2 * x * (x * w - y)\n",
        "\n",
        "def gradient_w2(x,y):\n",
        "  return 2 * x * (x * w - y)"
      ],
      "execution_count": null,
      "outputs": []
    },
    {
      "cell_type": "code",
      "metadata": {
        "colab": {
          "base_uri": "https://localhost:8080/"
        },
        "id": "BqviAgOQwrQs",
        "outputId": "d40ab348-2bb5-41e4-c2a2-75495eddbb75"
      },
      "source": [
        "# Before training\n",
        "print(\"Prediction (before training)\",  4, forward(4))\n",
        "loss_list = []\n",
        "epoch_t = []\n",
        "l_sum=0"
      ],
      "execution_count": null,
      "outputs": [
        {
          "output_type": "stream",
          "text": [
            "Prediction (before training) 4 36.0\n"
          ],
          "name": "stdout"
        }
      ]
    },
    {
      "cell_type": "code",
      "metadata": {
        "colab": {
          "base_uri": "https://localhost:8080/"
        },
        "id": "bazzmtH0wtiL",
        "outputId": "3dae481b-aa00-40f3-c003-02b75f4e8a53"
      },
      "source": [
        "# Training loop\n",
        "for epoch in range(50):\n",
        "    for x_val, y_val in zip(x_data, y_data):\n",
        "        \n",
        "        grad_w1 = gradient_w1(x_val, y_val)\n",
        "        grad_w2 = gradient_w2(x_val,y_val)\n",
        "        w1 = w1 - 0.001 * grad_w1\n",
        "        w2 = w2 - 0.001 *grad_w2\n",
        "        print(\"\\tgrad: \", x_val, y_val,round(grad_w1,2), round(grad_w2,2))\n",
        "        l = loss(x_val, y_val)\n",
        "        \n",
        "        loss_list.append(l)\n",
        "        epoch_t.append(epoch)\n",
        "    print(\"progress:\", epoch, \"w1=\", round(w1, 2),\"w2=\",round(w2,2) ,\"loss=\", round(l, 2))\n",
        "\n",
        "# After training\n",
        "\n",
        "print(\"Predicted score (after training)\",  \"4 hours of studying: \", forward(4))"
      ],
      "execution_count": null,
      "outputs": [
        {
          "output_type": "stream",
          "text": [
            "\tgrad:  1.0 2.0 1.99 1.99\n",
            "\tgrad:  2.0 4.0 7.96 7.96\n",
            "\tgrad:  3.0 6.0 17.91 17.91\n",
            "progress: 0 w1= 0.97 w2= 1.97 loss= 215.08\n",
            "\tgrad:  1.0 2.0 1.99 1.99\n",
            "\tgrad:  2.0 4.0 7.96 7.96\n",
            "\tgrad:  3.0 6.0 17.91 17.91\n",
            "progress: 1 w1= 0.94 w2= 1.94 loss= 205.38\n",
            "\tgrad:  1.0 2.0 1.99 1.99\n",
            "\tgrad:  2.0 4.0 7.96 7.96\n",
            "\tgrad:  3.0 6.0 17.91 17.91\n",
            "progress: 2 w1= 0.92 w2= 1.92 loss= 195.91\n",
            "\tgrad:  1.0 2.0 1.99 1.99\n",
            "\tgrad:  2.0 4.0 7.96 7.96\n",
            "\tgrad:  3.0 6.0 17.91 17.91\n",
            "progress: 3 w1= 0.89 w2= 1.89 loss= 186.66\n",
            "\tgrad:  1.0 2.0 1.99 1.99\n",
            "\tgrad:  2.0 4.0 7.96 7.96\n",
            "\tgrad:  3.0 6.0 17.91 17.91\n",
            "progress: 4 w1= 0.86 w2= 1.86 loss= 177.64\n",
            "\tgrad:  1.0 2.0 1.99 1.99\n",
            "\tgrad:  2.0 4.0 7.96 7.96\n",
            "\tgrad:  3.0 6.0 17.91 17.91\n",
            "progress: 5 w1= 0.83 w2= 1.83 loss= 168.83\n",
            "\tgrad:  1.0 2.0 1.99 1.99\n",
            "\tgrad:  2.0 4.0 7.96 7.96\n",
            "\tgrad:  3.0 6.0 17.91 17.91\n",
            "progress: 6 w1= 0.8 w2= 1.8 loss= 160.26\n",
            "\tgrad:  1.0 2.0 1.99 1.99\n",
            "\tgrad:  2.0 4.0 7.96 7.96\n",
            "\tgrad:  3.0 6.0 17.91 17.91\n",
            "progress: 7 w1= 0.78 w2= 1.78 loss= 151.9\n",
            "\tgrad:  1.0 2.0 1.99 1.99\n",
            "\tgrad:  2.0 4.0 7.96 7.96\n",
            "\tgrad:  3.0 6.0 17.91 17.91\n",
            "progress: 8 w1= 0.75 w2= 1.75 loss= 143.77\n",
            "\tgrad:  1.0 2.0 1.99 1.99\n",
            "\tgrad:  2.0 4.0 7.96 7.96\n",
            "\tgrad:  3.0 6.0 17.91 17.91\n",
            "progress: 9 w1= 0.72 w2= 1.72 loss= 135.86\n",
            "\tgrad:  1.0 2.0 1.99 1.99\n",
            "\tgrad:  2.0 4.0 7.96 7.96\n",
            "\tgrad:  3.0 6.0 17.91 17.91\n",
            "progress: 10 w1= 0.69 w2= 1.69 loss= 128.18\n",
            "\tgrad:  1.0 2.0 1.99 1.99\n",
            "\tgrad:  2.0 4.0 7.96 7.96\n",
            "\tgrad:  3.0 6.0 17.91 17.91\n",
            "progress: 11 w1= 0.67 w2= 1.67 loss= 120.72\n",
            "\tgrad:  1.0 2.0 1.99 1.99\n",
            "\tgrad:  2.0 4.0 7.96 7.96\n",
            "\tgrad:  3.0 6.0 17.91 17.91\n",
            "progress: 12 w1= 0.64 w2= 1.64 loss= 113.48\n",
            "\tgrad:  1.0 2.0 1.99 1.99\n",
            "\tgrad:  2.0 4.0 7.96 7.96\n",
            "\tgrad:  3.0 6.0 17.91 17.91\n",
            "progress: 13 w1= 0.61 w2= 1.61 loss= 106.47\n",
            "\tgrad:  1.0 2.0 1.99 1.99\n",
            "\tgrad:  2.0 4.0 7.96 7.96\n",
            "\tgrad:  3.0 6.0 17.91 17.91\n",
            "progress: 14 w1= 0.58 w2= 1.58 loss= 99.68\n",
            "\tgrad:  1.0 2.0 1.99 1.99\n",
            "\tgrad:  2.0 4.0 7.96 7.96\n",
            "\tgrad:  3.0 6.0 17.91 17.91\n",
            "progress: 15 w1= 0.55 w2= 1.55 loss= 93.11\n",
            "\tgrad:  1.0 2.0 1.99 1.99\n",
            "\tgrad:  2.0 4.0 7.96 7.96\n",
            "\tgrad:  3.0 6.0 17.91 17.91\n",
            "progress: 16 w1= 0.53 w2= 1.53 loss= 86.77\n",
            "\tgrad:  1.0 2.0 1.99 1.99\n",
            "\tgrad:  2.0 4.0 7.96 7.96\n",
            "\tgrad:  3.0 6.0 17.91 17.91\n",
            "progress: 17 w1= 0.5 w2= 1.5 loss= 80.65\n",
            "\tgrad:  1.0 2.0 1.99 1.99\n",
            "\tgrad:  2.0 4.0 7.96 7.96\n",
            "\tgrad:  3.0 6.0 17.91 17.91\n",
            "progress: 18 w1= 0.47 w2= 1.47 loss= 74.76\n",
            "\tgrad:  1.0 2.0 1.99 1.99\n",
            "\tgrad:  2.0 4.0 7.96 7.96\n",
            "\tgrad:  3.0 6.0 17.91 17.91\n",
            "progress: 19 w1= 0.44 w2= 1.44 loss= 69.09\n",
            "\tgrad:  1.0 2.0 1.99 1.99\n",
            "\tgrad:  2.0 4.0 7.96 7.96\n",
            "\tgrad:  3.0 6.0 17.91 17.91\n",
            "progress: 20 w1= 0.41 w2= 1.41 loss= 63.64\n",
            "\tgrad:  1.0 2.0 1.99 1.99\n",
            "\tgrad:  2.0 4.0 7.96 7.96\n",
            "\tgrad:  3.0 6.0 17.91 17.91\n",
            "progress: 21 w1= 0.39 w2= 1.39 loss= 58.42\n",
            "\tgrad:  1.0 2.0 1.99 1.99\n",
            "\tgrad:  2.0 4.0 7.96 7.96\n",
            "\tgrad:  3.0 6.0 17.91 17.91\n",
            "progress: 22 w1= 0.36 w2= 1.36 loss= 53.42\n",
            "\tgrad:  1.0 2.0 1.99 1.99\n",
            "\tgrad:  2.0 4.0 7.96 7.96\n",
            "\tgrad:  3.0 6.0 17.91 17.91\n",
            "progress: 23 w1= 0.33 w2= 1.33 loss= 48.64\n",
            "\tgrad:  1.0 2.0 1.99 1.99\n",
            "\tgrad:  2.0 4.0 7.96 7.96\n",
            "\tgrad:  3.0 6.0 17.91 17.91\n",
            "progress: 24 w1= 0.3 w2= 1.3 loss= 44.09\n",
            "\tgrad:  1.0 2.0 1.99 1.99\n",
            "\tgrad:  2.0 4.0 7.96 7.96\n",
            "\tgrad:  3.0 6.0 17.91 17.91\n",
            "progress: 25 w1= 0.28 w2= 1.28 loss= 39.76\n",
            "\tgrad:  1.0 2.0 1.99 1.99\n",
            "\tgrad:  2.0 4.0 7.96 7.96\n",
            "\tgrad:  3.0 6.0 17.91 17.91\n",
            "progress: 26 w1= 0.25 w2= 1.25 loss= 35.65\n",
            "\tgrad:  1.0 2.0 1.99 1.99\n",
            "\tgrad:  2.0 4.0 7.96 7.96\n",
            "\tgrad:  3.0 6.0 17.91 17.91\n",
            "progress: 27 w1= 0.22 w2= 1.22 loss= 31.77\n",
            "\tgrad:  1.0 2.0 1.99 1.99\n",
            "\tgrad:  2.0 4.0 7.96 7.96\n",
            "\tgrad:  3.0 6.0 17.91 17.91\n",
            "progress: 28 w1= 0.19 w2= 1.19 loss= 28.12\n",
            "\tgrad:  1.0 2.0 1.99 1.99\n",
            "\tgrad:  2.0 4.0 7.96 7.96\n",
            "\tgrad:  3.0 6.0 17.91 17.91\n",
            "progress: 29 w1= 0.16 w2= 1.16 loss= 24.68\n",
            "\tgrad:  1.0 2.0 1.99 1.99\n",
            "\tgrad:  2.0 4.0 7.96 7.96\n",
            "\tgrad:  3.0 6.0 17.91 17.91\n",
            "progress: 30 w1= 0.14 w2= 1.14 loss= 21.47\n",
            "\tgrad:  1.0 2.0 1.99 1.99\n",
            "\tgrad:  2.0 4.0 7.96 7.96\n",
            "\tgrad:  3.0 6.0 17.91 17.91\n",
            "progress: 31 w1= 0.11 w2= 1.11 loss= 18.48\n",
            "\tgrad:  1.0 2.0 1.99 1.99\n",
            "\tgrad:  2.0 4.0 7.96 7.96\n",
            "\tgrad:  3.0 6.0 17.91 17.91\n",
            "progress: 32 w1= 0.08 w2= 1.08 loss= 15.72\n",
            "\tgrad:  1.0 2.0 1.99 1.99\n",
            "\tgrad:  2.0 4.0 7.96 7.96\n",
            "\tgrad:  3.0 6.0 17.91 17.91\n",
            "progress: 33 w1= 0.05 w2= 1.05 loss= 13.18\n",
            "\tgrad:  1.0 2.0 1.99 1.99\n",
            "\tgrad:  2.0 4.0 7.96 7.96\n",
            "\tgrad:  3.0 6.0 17.91 17.91\n",
            "progress: 34 w1= 0.02 w2= 1.02 loss= 10.86\n",
            "\tgrad:  1.0 2.0 1.99 1.99\n",
            "\tgrad:  2.0 4.0 7.96 7.96\n",
            "\tgrad:  3.0 6.0 17.91 17.91\n",
            "progress: 35 w1= -0.0 w2= 1.0 loss= 8.77\n",
            "\tgrad:  1.0 2.0 1.99 1.99\n",
            "\tgrad:  2.0 4.0 7.96 7.96\n",
            "\tgrad:  3.0 6.0 17.91 17.91\n",
            "progress: 36 w1= -0.03 w2= 0.97 loss= 6.9\n",
            "\tgrad:  1.0 2.0 1.99 1.99\n",
            "\tgrad:  2.0 4.0 7.96 7.96\n",
            "\tgrad:  3.0 6.0 17.91 17.91\n",
            "progress: 37 w1= -0.06 w2= 0.94 loss= 5.26\n",
            "\tgrad:  1.0 2.0 1.99 1.99\n",
            "\tgrad:  2.0 4.0 7.96 7.96\n",
            "\tgrad:  3.0 6.0 17.91 17.91\n",
            "progress: 38 w1= -0.09 w2= 0.91 loss= 3.84\n",
            "\tgrad:  1.0 2.0 1.99 1.99\n",
            "\tgrad:  2.0 4.0 7.96 7.96\n",
            "\tgrad:  3.0 6.0 17.91 17.91\n",
            "progress: 39 w1= -0.11 w2= 0.89 loss= 2.64\n",
            "\tgrad:  1.0 2.0 1.99 1.99\n",
            "\tgrad:  2.0 4.0 7.96 7.96\n",
            "\tgrad:  3.0 6.0 17.91 17.91\n",
            "progress: 40 w1= -0.14 w2= 0.86 loss= 1.66\n",
            "\tgrad:  1.0 2.0 1.99 1.99\n",
            "\tgrad:  2.0 4.0 7.96 7.96\n",
            "\tgrad:  3.0 6.0 17.91 17.91\n",
            "progress: 41 w1= -0.17 w2= 0.83 loss= 0.91\n",
            "\tgrad:  1.0 2.0 1.99 1.99\n",
            "\tgrad:  2.0 4.0 7.96 7.96\n",
            "\tgrad:  3.0 6.0 17.91 17.91\n",
            "progress: 42 w1= -0.2 w2= 0.8 loss= 0.39\n",
            "\tgrad:  1.0 2.0 1.99 1.99\n",
            "\tgrad:  2.0 4.0 7.96 7.96\n",
            "\tgrad:  3.0 6.0 17.91 17.91\n",
            "progress: 43 w1= -0.23 w2= 0.77 loss= 0.08\n",
            "\tgrad:  1.0 2.0 1.99 1.99\n",
            "\tgrad:  2.0 4.0 7.96 7.96\n",
            "\tgrad:  3.0 6.0 17.91 17.91\n",
            "progress: 44 w1= -0.25 w2= 0.75 loss= 0.0\n",
            "\tgrad:  1.0 2.0 1.99 1.99\n",
            "\tgrad:  2.0 4.0 7.96 7.96\n",
            "\tgrad:  3.0 6.0 17.91 17.91\n",
            "progress: 45 w1= -0.28 w2= 0.72 loss= 0.15\n",
            "\tgrad:  1.0 2.0 1.99 1.99\n",
            "\tgrad:  2.0 4.0 7.96 7.96\n",
            "\tgrad:  3.0 6.0 17.91 17.91\n",
            "progress: 46 w1= -0.31 w2= 0.69 loss= 0.51\n",
            "\tgrad:  1.0 2.0 1.99 1.99\n",
            "\tgrad:  2.0 4.0 7.96 7.96\n",
            "\tgrad:  3.0 6.0 17.91 17.91\n",
            "progress: 47 w1= -0.34 w2= 0.66 loss= 1.11\n",
            "\tgrad:  1.0 2.0 1.99 1.99\n",
            "\tgrad:  2.0 4.0 7.96 7.96\n",
            "\tgrad:  3.0 6.0 17.91 17.91\n",
            "progress: 48 w1= -0.37 w2= 0.63 loss= 1.92\n",
            "\tgrad:  1.0 2.0 1.99 1.99\n",
            "\tgrad:  2.0 4.0 7.96 7.96\n",
            "\tgrad:  3.0 6.0 17.91 17.91\n",
            "progress: 49 w1= -0.39 w2= 0.61 loss= 2.96\n",
            "Predicted score (after training) 4 hours of studying:  8.133273295077185\n"
          ],
          "name": "stdout"
        }
      ]
    },
    {
      "cell_type": "code",
      "metadata": {
        "colab": {
          "base_uri": "https://localhost:8080/",
          "height": 279
        },
        "id": "icHvrPLswwLh",
        "outputId": "59f0567b-6209-4b35-adab-ad7d002be2ed"
      },
      "source": [
        "##plt.plot(x_data, y_data)\n",
        "plt.plot( epoch_t,loss_list)\n",
        "plt.ylabel('loss')\n",
        "plt.xlabel('epoch')\n",
        "plt.show()"
      ],
      "execution_count": null,
      "outputs": [
        {
          "output_type": "display_data",
          "data": {
            "image/png": "[encoded data removed]",
            "text/plain": [
              "<Figure size 432x288 with 1 Axes>"
            ]
          },
          "metadata": {
            "tags": [],
            "needs_background": "light"
          }
        }
      ]
    },
    {
      "cell_type": "code",
      "metadata": {
        "id": "oyXPe70QxIj9"
      },
      "source": [
        ""
      ],
      "execution_count": null,
      "outputs": []
    }
  ]
}