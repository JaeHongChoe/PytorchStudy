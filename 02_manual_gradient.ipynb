{
  "nbformat": 4,
  "nbformat_minor": 0,
  "metadata": {
    "colab": {
      "name": "02_manual_gradient.ipynb",
      "provenance": [],
      "collapsed_sections": [],
      "authorship_tag": "ABX9TyNjTRJs/Nxl4maHJiuOAOEH",
      "include_colab_link": true
    },
    "kernelspec": {
      "name": "python3",
      "display_name": "Python 3"
    }
  },
  "cells": [
    {
      "cell_type": "markdown",
      "metadata": {
        "id": "view-in-github",
        "colab_type": "text"
      },
      "source": [
        "<a href=\"https://colab.research.google.com/github/JaeHongChoe/PytorchStudy/blob/main/02_manual_gradient.ipynb\" target=\"_parent\"><img src=\"https://colab.research.google.com/assets/colab-badge.svg\" alt=\"Open In Colab\"/></a>"
      ]
    },
    {
      "cell_type": "code",
      "metadata": {
        "id": "G-aKYajvn4Sr"
      },
      "source": [
        "import numpy as np\n",
        "import matplotlib.pyplot as plt\n",
        "\n",
        "##dataset\n",
        "x_data = [1.0, 2.0, 3.0]\n",
        "y_data = [2.0, 4.0, 6.0]"
      ],
      "execution_count": 29,
      "outputs": []
    },
    {
      "cell_type": "markdown",
      "metadata": {
        "id": "oZvIRNY0qYyy"
      },
      "source": [
        "\n",
        "𝛼"
      ]
    },
    {
      "cell_type": "code",
      "metadata": {
        "id": "e1hkstrNrb6i"
      },
      "source": [
        "w1 = 1.0 ## random guess\n",
        "w2 = 2.0\n",
        "\n",
        "def forward(x): ##y^ = x^2*w1 +x*w2\n",
        "  return (x**2)*w2 + (x*w1)"
      ],
      "execution_count": 30,
      "outputs": []
    },
    {
      "cell_type": "code",
      "metadata": {
        "id": "9pLb54p2wm1T"
      },
      "source": [
        "# Loss function\n",
        "def loss(x, y):\n",
        "    y_pred = forward(x)\n",
        "    return (y_pred - y) * (y_pred - y)"
      ],
      "execution_count": 31,
      "outputs": []
    },
    {
      "cell_type": "code",
      "metadata": {
        "id": "jNfJMDzqwo4g"
      },
      "source": [
        "# compute gradient\n",
        "def gradient(x, y):  # d_loss/d_w\n",
        "    return 2 * x * (x * w - y)"
      ],
      "execution_count": 32,
      "outputs": []
    },
    {
      "cell_type": "code",
      "metadata": {
        "id": "kZIgTSgM6hhR"
      },
      "source": [
        "def gradient_w1(x,y):\n",
        "  return 2 * x * (x * w1+w2*x*x-y)\n",
        "\n",
        "def gradient_w2(x,y):\n",
        "  return 2*x*x*(x*x*w2+w1*x-y)"
      ],
      "execution_count": 33,
      "outputs": []
    },
    {
      "cell_type": "code",
      "metadata": {
        "colab": {
          "base_uri": "https://localhost:8080/"
        },
        "id": "BqviAgOQwrQs",
        "outputId": "e25a72c5-20e2-4ede-8f79-aa1dc5c1c6ac"
      },
      "source": [
        "# Before training\n",
        "print(\"Prediction (before training)\",  4, forward(4))\n",
        "loss_list = []\n",
        "epoch_t = []\n",
        "l_sum=0"
      ],
      "execution_count": 34,
      "outputs": [
        {
          "output_type": "stream",
          "text": [
            "Prediction (before training) 4 36.0\n"
          ],
          "name": "stdout"
        }
      ]
    },
    {
      "cell_type": "code",
      "metadata": {
        "colab": {
          "base_uri": "https://localhost:8080/"
        },
        "id": "bazzmtH0wtiL",
        "outputId": "0c5c2157-9b97-4d39-b6a8-4e06c8cb1329"
      },
      "source": [
        "# Training loop\n",
        "for epoch in range(20):\n",
        "    for x_val, y_val in zip(x_data, y_data):\n",
        "        \n",
        "        grad_w1 = gradient_w1(x_val, y_val)\n",
        "        grad_w2 = gradient_w2(x_val,y_val)\n",
        "        w1 = w1 - 0.01 * grad_w1\n",
        "        w2 = w2 - 0.01 *grad_w2\n",
        "        print(\"\\tgrad: \", x_val, y_val,round(grad_w1,2), round(grad_w2,2))\n",
        "        l = loss(x_val, y_val)\n",
        "        \n",
        "        loss_list.append(l)\n",
        "        epoch_t.append(epoch)\n",
        "    print(\"progress:\", epoch, \"w1=\", round(w1, 2),\"w2=\",round(w2,2) ,\"loss=\", round(l, 2))\n",
        "\n",
        "# After training\n",
        "\n",
        "print(\"Predicted score (after training)\",  \"4 hours of studying: \", forward(4))"
      ],
      "execution_count": 35,
      "outputs": [
        {
          "output_type": "stream",
          "text": [
            "\tgrad:  1.0 2.0 2.0 2.0\n",
            "\tgrad:  2.0 4.0 23.52 47.04\n",
            "\tgrad:  3.0 6.0 58.92 176.77\n",
            "progress: 0 w1= 0.16 w2= -0.26 loss= 61.73\n",
            "\tgrad:  1.0 2.0 -4.21 -4.21\n",
            "\tgrad:  2.0 4.0 -17.88 -35.75\n",
            "\tgrad:  3.0 6.0 -21.59 -64.76\n",
            "progress: 1 w1= 0.59 w2= 0.79 loss= 8.28\n",
            "\tgrad:  1.0 2.0 -1.24 -1.24\n",
            "\tgrad:  2.0 4.0 1.66 3.32\n",
            "\tgrad:  3.0 6.0 16.07 48.21\n",
            "progress: 2 w1= 0.43 w2= 0.29 loss= 4.59\n",
            "\tgrad:  1.0 2.0 -2.57 -2.57\n",
            "\tgrad:  2.0 4.0 -7.39 -14.77\n",
            "\tgrad:  3.0 6.0 -1.7 -5.09\n",
            "progress: 3 w1= 0.54 w2= 0.51 loss= 0.05\n",
            "\tgrad:  1.0 2.0 -1.89 -1.89\n",
            "\tgrad:  2.0 4.0 -3.03 -6.05\n",
            "\tgrad:  3.0 6.0 6.53 19.6\n",
            "progress: 4 w1= 0.53 w2= 0.39 loss= 0.76\n",
            "\tgrad:  1.0 2.0 -2.16 -2.16\n",
            "\tgrad:  2.0 4.0 -4.96 -9.91\n",
            "\tgrad:  3.0 6.0 2.57 7.72\n",
            "progress: 5 w1= 0.57 w2= 0.44 loss= 0.12\n",
            "\tgrad:  1.0 2.0 -1.98 -1.98\n",
            "\tgrad:  2.0 4.0 -3.94 -7.88\n",
            "\tgrad:  3.0 6.0 4.33 12.99\n",
            "progress: 6 w1= 0.59 w2= 0.41 loss= 0.33\n",
            "\tgrad:  1.0 2.0 -2.01 -2.01\n",
            "\tgrad:  2.0 4.0 -4.31 -8.61\n",
            "\tgrad:  3.0 6.0 3.41 10.23\n",
            "progress: 7 w1= 0.62 w2= 0.41 loss= 0.21\n",
            "\tgrad:  1.0 2.0 -1.94 -1.94\n",
            "\tgrad:  2.0 4.0 -4.03 -8.05\n",
            "\tgrad:  3.0 6.0 3.75 11.24\n",
            "progress: 8 w1= 0.64 w2= 0.4 loss= 0.25\n",
            "\tgrad:  1.0 2.0 -1.92 -1.92\n",
            "\tgrad:  2.0 4.0 -4.05 -8.1\n",
            "\tgrad:  3.0 6.0 3.49 10.48\n",
            "progress: 9 w1= 0.67 w2= 0.39 loss= 0.22\n",
            "\tgrad:  1.0 2.0 -1.88 -1.88\n",
            "\tgrad:  2.0 4.0 -3.94 -7.87\n",
            "\tgrad:  3.0 6.0 3.52 10.56\n",
            "progress: 10 w1= 0.69 w2= 0.39 loss= 0.22\n",
            "\tgrad:  1.0 2.0 -1.85 -1.85\n",
            "\tgrad:  2.0 4.0 -3.89 -7.78\n",
            "\tgrad:  3.0 6.0 3.42 10.25\n",
            "progress: 11 w1= 0.71 w2= 0.38 loss= 0.21\n",
            "\tgrad:  1.0 2.0 -1.82 -1.82\n",
            "\tgrad:  2.0 4.0 -3.81 -7.62\n",
            "\tgrad:  3.0 6.0 3.38 10.13\n",
            "progress: 12 w1= 0.73 w2= 0.37 loss= 0.2\n",
            "\tgrad:  1.0 2.0 -1.79 -1.79\n",
            "\tgrad:  2.0 4.0 -3.75 -7.49\n",
            "\tgrad:  3.0 6.0 3.31 9.92\n",
            "progress: 13 w1= 0.76 w2= 0.37 loss= 0.19\n",
            "\tgrad:  1.0 2.0 -1.76 -1.76\n",
            "\tgrad:  2.0 4.0 -3.68 -7.36\n",
            "\tgrad:  3.0 6.0 3.25 9.76\n",
            "progress: 14 w1= 0.78 w2= 0.36 loss= 0.19\n",
            "\tgrad:  1.0 2.0 -1.73 -1.73\n",
            "\tgrad:  2.0 4.0 -3.62 -7.23\n",
            "\tgrad:  3.0 6.0 3.2 9.59\n",
            "progress: 15 w1= 0.8 w2= 0.35 loss= 0.18\n",
            "\tgrad:  1.0 2.0 -1.7 -1.7\n",
            "\tgrad:  2.0 4.0 -3.55 -7.1\n",
            "\tgrad:  3.0 6.0 3.14 9.42\n",
            "progress: 16 w1= 0.82 w2= 0.35 loss= 0.18\n",
            "\tgrad:  1.0 2.0 -1.67 -1.67\n",
            "\tgrad:  2.0 4.0 -3.49 -6.98\n",
            "\tgrad:  3.0 6.0 3.08 9.25\n",
            "progress: 17 w1= 0.84 w2= 0.34 loss= 0.17\n",
            "\tgrad:  1.0 2.0 -1.64 -1.64\n",
            "\tgrad:  2.0 4.0 -3.43 -6.86\n",
            "\tgrad:  3.0 6.0 3.03 9.09\n",
            "progress: 18 w1= 0.86 w2= 0.33 loss= 0.16\n",
            "\tgrad:  1.0 2.0 -1.61 -1.61\n",
            "\tgrad:  2.0 4.0 -3.37 -6.74\n",
            "\tgrad:  3.0 6.0 2.98 8.93\n",
            "progress: 19 w1= 0.88 w2= 0.33 loss= 0.16\n",
            "Predicted score (after training) 4 hours of studying:  8.78552760293712\n"
          ],
          "name": "stdout"
        }
      ]
    },
    {
      "cell_type": "code",
      "metadata": {
        "colab": {
          "base_uri": "https://localhost:8080/",
          "height": 279
        },
        "id": "icHvrPLswwLh",
        "outputId": "39019a03-c47c-4d89-a542-ffad6f4f5561"
      },
      "source": [
        "##plt.plot(x_data, y_data)\n",
        "plt.plot( epoch_t,loss_list)\n",
        "plt.ylabel('loss')\n",
        "plt.xlabel('epoch')\n",
        "plt.show()"
      ],
      "execution_count": 36,
      "outputs": [
        {
          "output_type": "display_data",
          "data": {
            "image/png": "[encoded data removed]",
            "text/plain": [
              "<Figure size 432x288 with 1 Axes>"
            ]
          },
          "metadata": {
            "tags": [],
            "needs_background": "light"
          }
        }
      ]
    },
    {
      "cell_type": "code",
      "metadata": {
        "id": "oyXPe70QxIj9"
      },
      "source": [
        ""
      ],
      "execution_count": null,
      "outputs": []
    }
  ]
}