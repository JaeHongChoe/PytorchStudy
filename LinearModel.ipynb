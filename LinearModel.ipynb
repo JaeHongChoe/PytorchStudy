{
  "nbformat": 4,
  "nbformat_minor": 0,
  "metadata": {
    "colab": {
      "name": "LinearModel.ipynb",
      "provenance": [],
      "collapsed_sections": [],
      "authorship_tag": "ABX9TyNbpomj1bxkwjobXxRwbFPm",
      "include_colab_link": true
    },
    "kernelspec": {
      "name": "python3",
      "display_name": "Python 3"
    }
  },
  "cells": [
    {
      "cell_type": "markdown",
      "metadata": {
        "id": "view-in-github",
        "colab_type": "text"
      },
      "source": [
        "<a href=\"https://colab.research.google.com/github/JaeHongChoe/PytorchStudy/blob/main/LinearModel.ipynb\" target=\"_parent\"><img src=\"https://colab.research.google.com/assets/colab-badge.svg\" alt=\"Open In Colab\"/></a>"
      ]
    },
    {
      "cell_type": "code",
      "metadata": {
        "id": "jCborcH5t3eW"
      },
      "source": [
        "import numpy as np\n",
        "import matplotlib.pyplot as plt\n",
        "\n",
        "##dataset\n",
        "x_data = [1.0, 2.0, 3.0]\n",
        "y_data = [3.0, 6.0, 9.0]"
      ],
      "execution_count": null,
      "outputs": []
    },
    {
      "cell_type": "markdown",
      "metadata": {
        "id": "YdE5H73Im1tD"
      },
      "source": [
        "#forward\n",
        "\n",
        "### y^ = x*w"
      ]
    },
    {
      "cell_type": "code",
      "metadata": {
        "id": "Mlo1_WDbs0gk"
      },
      "source": [
        "w = 5.0 ## random guess\n",
        "\n",
        "def forward(x): ##y^ = x*w\n",
        "  return x * w"
      ],
      "execution_count": null,
      "outputs": []
    },
    {
      "cell_type": "markdown",
      "metadata": {
        "id": "Fvx9qIjBm-eI"
      },
      "source": [
        "#loss function\n",
        "\n",
        "###loss = (y^ * y)^2"
      ]
    },
    {
      "cell_type": "code",
      "metadata": {
        "id": "5K4HKh0Dtaiu"
      },
      "source": [
        "def loss(x,y): ##loss function \n",
        "  y_pred = forward(x)\n",
        "  return (y_pred - y) * (y_pred - y)"
      ],
      "execution_count": null,
      "outputs": []
    },
    {
      "cell_type": "code",
      "metadata": {
        "id": "S8BmD92hyrVp"
      },
      "source": [
        "w_list = []\n",
        "mse_list = []"
      ],
      "execution_count": null,
      "outputs": []
    },
    {
      "cell_type": "markdown",
      "metadata": {
        "id": "6TII2vwmnO8Y"
      },
      "source": [
        "# compute loss for w \n",
        "계산하기"
      ]
    },
    {
      "cell_type": "code",
      "metadata": {
        "id": "9WgEh0MOthwn",
        "colab": {
          "base_uri": "https://localhost:8080/"
        },
        "outputId": "2616a1e2-ae79-464c-8fa0-1092b9bec36d"
      },
      "source": [
        "for w in np.arange(0.0, 6.1 , 1):\n",
        "  print(\"w=\", w)\n",
        "  l_sum = 0\n",
        "  for x_val, y_val in zip(x_data, y_data):\n",
        "    y_pred_val = forward(x_val)\n",
        "    l = loss(x_val, y_val)\n",
        "    l_sum += l\n",
        "    print(\"\\t\",x_val, y_val, y_pred_val, 1)\n",
        "  print(\"MSE=\", l_sum /3)\n",
        "  w_list.append(w)\n",
        "  mse_list.append(l_sum /3)\n",
        "  "
      ],
      "execution_count": null,
      "outputs": [
        {
          "output_type": "stream",
          "text": [
            "w= 0.0\n",
            "\t 1.0 3.0 0.0 1\n",
            "\t 2.0 6.0 0.0 1\n",
            "\t 3.0 9.0 0.0 1\n",
            "MSE= 42.0\n",
            "w= 1.0\n",
            "\t 1.0 3.0 1.0 1\n",
            "\t 2.0 6.0 2.0 1\n",
            "\t 3.0 9.0 3.0 1\n",
            "MSE= 18.666666666666668\n",
            "w= 2.0\n",
            "\t 1.0 3.0 2.0 1\n",
            "\t 2.0 6.0 4.0 1\n",
            "\t 3.0 9.0 6.0 1\n",
            "MSE= 4.666666666666667\n",
            "w= 3.0\n",
            "\t 1.0 3.0 3.0 1\n",
            "\t 2.0 6.0 6.0 1\n",
            "\t 3.0 9.0 9.0 1\n",
            "MSE= 0.0\n",
            "w= 4.0\n",
            "\t 1.0 3.0 4.0 1\n",
            "\t 2.0 6.0 8.0 1\n",
            "\t 3.0 9.0 12.0 1\n",
            "MSE= 4.666666666666667\n",
            "w= 5.0\n",
            "\t 1.0 3.0 5.0 1\n",
            "\t 2.0 6.0 10.0 1\n",
            "\t 3.0 9.0 15.0 1\n",
            "MSE= 18.666666666666668\n",
            "w= 6.0\n",
            "\t 1.0 3.0 6.0 1\n",
            "\t 2.0 6.0 12.0 1\n",
            "\t 3.0 9.0 18.0 1\n",
            "MSE= 42.0\n"
          ],
          "name": "stdout"
        }
      ]
    },
    {
      "cell_type": "code",
      "metadata": {
        "colab": {
          "base_uri": "https://localhost:8080/",
          "height": 279
        },
        "id": "mh3__V4-x1Pu",
        "outputId": "045a0435-38ed-44c5-ec94-fdc6ae3ede74"
      },
      "source": [
        "plt.plot(w_list, mse_list)\n",
        "plt.ylabel('Loss')\n",
        "plt.xlabel('w')\n",
        "plt.show()"
      ],
      "execution_count": null,
      "outputs": [
        {
          "output_type": "display_data",
          "data": {
            "image/png": "[encoded data removed]",
            "text/plain": [
              "<Figure size 432x288 with 1 Axes>"
            ]
          },
          "metadata": {
            "tags": [],
            "needs_background": "light"
          }
        }
      ]
    },
    {
      "cell_type": "code",
      "metadata": {
        "id": "cDoHSsYcy4Nl"
      },
      "source": [
        ""
      ],
      "execution_count": null,
      "outputs": []
    }
  ]
}