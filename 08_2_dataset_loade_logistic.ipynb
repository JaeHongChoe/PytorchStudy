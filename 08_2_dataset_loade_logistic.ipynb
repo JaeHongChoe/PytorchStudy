{
  "nbformat": 4,
  "nbformat_minor": 0,
  "metadata": {
    "kernelspec": {
      "display_name": "Python 3",
      "language": "python",
      "name": "python3"
    },
    "language_info": {
      "codemirror_mode": {
        "name": "ipython",
        "version": 3
      },
      "file_extension": ".py",
      "mimetype": "text/x-python",
      "name": "python",
      "nbconvert_exporter": "python",
      "pygments_lexer": "ipython3",
      "version": "3.8.5"
    },
    "colab": {
      "name": "08_2_dataset_loade_logistic.ipynb",
      "provenance": [],
      "include_colab_link": true
    }
  },
  "cells": [
    {
      "cell_type": "markdown",
      "metadata": {
        "id": "view-in-github",
        "colab_type": "text"
      },
      "source": [
        "<a href=\"https://colab.research.google.com/github/JaeHongChoe/PytorchStudy/blob/main/08_2_dataset_loade_logistic.ipynb\" target=\"_parent\"><img src=\"https://colab.research.google.com/assets/colab-badge.svg\" alt=\"Open In Colab\"/></a>"
      ]
    },
    {
      "cell_type": "code",
      "metadata": {
        "id": "D-jEjdvZb6Ip"
      },
      "source": [
        "from torch.utils.data import Dataset, DataLoader\n",
        "from torch import nn, from_numpy, optim\n",
        "import numpy as np\n",
        "import torch"
      ],
      "execution_count": 2,
      "outputs": []
    },
    {
      "cell_type": "code",
      "metadata": {
        "colab": {
          "base_uri": "https://localhost:8080/"
        },
        "id": "AmScRT3Ab6Iq",
        "outputId": "2e1a0009-8fb1-4a69-eabd-14c7ac61738c"
      },
      "source": [
        "!pwd"
      ],
      "execution_count": 3,
      "outputs": [
        {
          "output_type": "stream",
          "text": [
            "/content\n"
          ],
          "name": "stdout"
        }
      ]
    },
    {
      "cell_type": "code",
      "metadata": {
        "colab": {
          "base_uri": "https://localhost:8080/"
        },
        "id": "wHlu7el3b8f7",
        "outputId": "2c2c125f-3bf3-4b39-d79f-f72e7d0625e5"
      },
      "source": [
        "from google.colab import drive\n",
        "drive.mount(\"/content/drive\")"
      ],
      "execution_count": 1,
      "outputs": [
        {
          "output_type": "stream",
          "text": [
            "Mounted at /content/drive\n"
          ],
          "name": "stdout"
        }
      ]
    },
    {
      "cell_type": "code",
      "metadata": {
        "id": "06vBggUzb6Ir"
      },
      "source": [
        "class DiabetesDataset(Dataset):\n",
        "    \"\"\" Diabetes dataset.\"\"\"\n",
        "    # Initialize your data, download, etc.\n",
        "    def __init__(self):\n",
        "        xy = np.loadtxt('drive/My Drive/파이토치 연습/diabetes.csv',\n",
        "                        delimiter=',', dtype=np.float32)\n",
        "        self.len = xy.shape[0]\n",
        "        self.x_data = from_numpy(xy[:, 0:-1])\n",
        "        self.y_data = from_numpy(xy[:, [-1]])\n",
        "\n",
        "    def __getitem__(self, index):\n",
        "        return self.x_data[index], self.y_data[index]\n",
        "\n",
        "    def __len__(self):\n",
        "        return self.len\n"
      ],
      "execution_count": 4,
      "outputs": []
    },
    {
      "cell_type": "code",
      "metadata": {
        "id": "EMh6RD_4b6Is"
      },
      "source": [
        "dataset = DiabetesDataset()\n",
        "trainloader = DataLoader(dataset=dataset,\n",
        "                          batch_size=32,\n",
        "                          shuffle=True,\n",
        "                          num_workers=2)"
      ],
      "execution_count": 5,
      "outputs": []
    },
    {
      "cell_type": "code",
      "metadata": {
        "id": "hIAEXIG4b6Is"
      },
      "source": [
        "class Model(nn.Module):\n",
        "\n",
        "    def __init__(self):\n",
        "        \"\"\"\n",
        "        In the constructor we instantiate two nn.Linear module\n",
        "        \"\"\"\n",
        "        super(Model, self).__init__()\n",
        "        self.l1 = nn.Linear(8, 6)\n",
        "        self.l2 = nn.Linear(6, 4)\n",
        "        self.l3 = nn.Linear(4, 1)\n",
        "\n",
        "        self.sigmoid = nn.Sigmoid()\n",
        "\n",
        "    def forward(self, x):\n",
        "        \"\"\"\n",
        "        In the forward function we accept a Variable of input data and we must return\n",
        "        a Variable of output data. We can use Modules defined in the constructor as\n",
        "        well as arbitrary operators on Variables.\n",
        "        \"\"\"\n",
        "        out1 = self.sigmoid(self.l1(x))\n",
        "        out2 = self.sigmoid(self.l2(out1))\n",
        "        y_pred = self.sigmoid(self.l3(out2))\n",
        "        return y_pred\n",
        "\n",
        "\n",
        "# our model\n",
        "model = Model()\n"
      ],
      "execution_count": 6,
      "outputs": []
    },
    {
      "cell_type": "code",
      "metadata": {
        "id": "oVfeBRw0b6Is"
      },
      "source": [
        "criterion = nn.BCELoss(reduction='sum')\n",
        "optimizer = optim.SGD(model.parameters(), lr=0.1)\n"
      ],
      "execution_count": 7,
      "outputs": []
    },
    {
      "cell_type": "code",
      "metadata": {
        "colab": {
          "base_uri": "https://localhost:8080/"
        },
        "id": "U1RMktz_b6Is",
        "outputId": "427356ce-0a58-42ef-8477-8a33da2586d4"
      },
      "source": [
        "for epoch in range(2):\n",
        "    for i, data in enumerate(trainloader, 0):\n",
        "        # get the inputs\n",
        "        inputs, labels = data\n",
        "        \n",
        "        #inputs, labels = Variable(inputs),Variable(labels)\n",
        "\n",
        "        # Forward pass: Compute predicted y by passing x to the model\n",
        "        y_pred = model(inputs)\n",
        "\n",
        "        # Compute and print loss\n",
        "        loss = criterion(y_pred, labels)\n",
        "        print(f'Epoch {epoch + 1} | Batch: {i+1} | Loss: {loss.item():.4f}')\n",
        "        #print(epoch,i,loss.data[0])\n",
        "        # Zero gradients, perform a backward pass, and update the weights.\n",
        "        optimizer.zero_grad()\n",
        "        loss.backward()\n",
        "        optimizer.step()"
      ],
      "execution_count": 13,
      "outputs": [
        {
          "output_type": "stream",
          "text": [
            "Epoch 1 | Batch: 1 | Loss: 11.4809\n",
            "Epoch 1 | Batch: 2 | Loss: 16.2681\n",
            "Epoch 1 | Batch: 3 | Loss: 11.4525\n",
            "Epoch 1 | Batch: 4 | Loss: 18.6270\n",
            "Epoch 1 | Batch: 5 | Loss: 17.2015\n",
            "Epoch 1 | Batch: 6 | Loss: 13.0375\n",
            "Epoch 1 | Batch: 7 | Loss: 18.0876\n",
            "Epoch 1 | Batch: 8 | Loss: 14.7179\n",
            "Epoch 1 | Batch: 9 | Loss: 10.6922\n",
            "Epoch 1 | Batch: 10 | Loss: 16.8917\n",
            "Epoch 1 | Batch: 11 | Loss: 18.4125\n",
            "Epoch 1 | Batch: 12 | Loss: 11.2876\n",
            "Epoch 1 | Batch: 13 | Loss: 12.9179\n",
            "Epoch 1 | Batch: 14 | Loss: 13.7863\n",
            "Epoch 1 | Batch: 15 | Loss: 16.1398\n",
            "Epoch 1 | Batch: 16 | Loss: 12.7656\n",
            "Epoch 1 | Batch: 17 | Loss: 13.9374\n",
            "Epoch 1 | Batch: 18 | Loss: 9.2283\n",
            "Epoch 1 | Batch: 19 | Loss: 17.5875\n",
            "Epoch 1 | Batch: 20 | Loss: 19.6567\n",
            "Epoch 1 | Batch: 21 | Loss: 17.0076\n",
            "Epoch 1 | Batch: 22 | Loss: 18.4698\n",
            "Epoch 1 | Batch: 23 | Loss: 17.9121\n",
            "Epoch 1 | Batch: 24 | Loss: 9.9886\n",
            "Epoch 2 | Batch: 1 | Loss: 17.2037\n",
            "Epoch 2 | Batch: 2 | Loss: 15.4037\n",
            "Epoch 2 | Batch: 3 | Loss: 22.5103\n",
            "Epoch 2 | Batch: 4 | Loss: 23.5672\n",
            "Epoch 2 | Batch: 5 | Loss: 12.5746\n",
            "Epoch 2 | Batch: 6 | Loss: 15.3482\n",
            "Epoch 2 | Batch: 7 | Loss: 16.7881\n",
            "Epoch 2 | Batch: 8 | Loss: 14.1253\n",
            "Epoch 2 | Batch: 9 | Loss: 16.0403\n",
            "Epoch 2 | Batch: 10 | Loss: 13.4346\n",
            "Epoch 2 | Batch: 11 | Loss: 16.0694\n",
            "Epoch 2 | Batch: 12 | Loss: 11.2221\n",
            "Epoch 2 | Batch: 13 | Loss: 19.9454\n",
            "Epoch 2 | Batch: 14 | Loss: 11.4617\n",
            "Epoch 2 | Batch: 15 | Loss: 15.9260\n",
            "Epoch 2 | Batch: 16 | Loss: 14.4370\n",
            "Epoch 2 | Batch: 17 | Loss: 16.9325\n",
            "Epoch 2 | Batch: 18 | Loss: 12.3277\n",
            "Epoch 2 | Batch: 19 | Loss: 15.7871\n",
            "Epoch 2 | Batch: 20 | Loss: 16.7673\n",
            "Epoch 2 | Batch: 21 | Loss: 14.2151\n",
            "Epoch 2 | Batch: 22 | Loss: 12.7120\n",
            "Epoch 2 | Batch: 23 | Loss: 16.6690\n",
            "Epoch 2 | Batch: 24 | Loss: 7.5434\n"
          ],
          "name": "stdout"
        }
      ]
    },
    {
      "cell_type": "code",
      "metadata": {
        "id": "7U6-IOJSb6It"
      },
      "source": [
        ""
      ],
      "execution_count": 10,
      "outputs": []
    },
    {
      "cell_type": "code",
      "metadata": {
        "id": "tQ6P9laRb6It"
      },
      "source": [
        ""
      ],
      "execution_count": null,
      "outputs": []
    }
  ]
}